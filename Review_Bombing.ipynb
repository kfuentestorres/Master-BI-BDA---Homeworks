{
  "nbformat": 4,
  "nbformat_minor": 0,
  "metadata": {
    "colab": {
      "name": "Review_Bombing.ipynb",
      "provenance": [],
      "collapsed_sections": [],
      "toc_visible": true,
      "include_colab_link": true
    },
    "kernelspec": {
      "name": "python3",
      "display_name": "Python 3"
    },
    "widgets": {
      "application/vnd.jupyter.widget-state+json": {
        "f4e7f7445afe4724a98223615bdfffd4": {
          "model_module": "@jupyter-widgets/controls",
          "model_name": "HBoxModel",
          "state": {
            "_view_name": "HBoxView",
            "_dom_classes": [],
            "_model_name": "HBoxModel",
            "_view_module": "@jupyter-widgets/controls",
            "_model_module_version": "1.5.0",
            "_view_count": null,
            "_view_module_version": "1.5.0",
            "box_style": "",
            "layout": "IPY_MODEL_92b9671ae08d44de9ab9d0dffb644ee0",
            "_model_module": "@jupyter-widgets/controls",
            "children": [
              "IPY_MODEL_7dd0d733005d4bbd9a4cba2126b2667c",
              "IPY_MODEL_b3297b98b0ac492b85b6b50edf0a3431"
            ]
          }
        },
        "92b9671ae08d44de9ab9d0dffb644ee0": {
          "model_module": "@jupyter-widgets/base",
          "model_name": "LayoutModel",
          "state": {
            "_view_name": "LayoutView",
            "grid_template_rows": null,
            "right": null,
            "justify_content": null,
            "_view_module": "@jupyter-widgets/base",
            "overflow": null,
            "_model_module_version": "1.2.0",
            "_view_count": null,
            "flex_flow": null,
            "width": null,
            "min_width": null,
            "border": null,
            "align_items": null,
            "bottom": null,
            "_model_module": "@jupyter-widgets/base",
            "top": null,
            "grid_column": null,
            "overflow_y": null,
            "overflow_x": null,
            "grid_auto_flow": null,
            "grid_area": null,
            "grid_template_columns": null,
            "flex": null,
            "_model_name": "LayoutModel",
            "justify_items": null,
            "grid_row": null,
            "max_height": null,
            "align_content": null,
            "visibility": null,
            "align_self": null,
            "height": null,
            "min_height": null,
            "padding": null,
            "grid_auto_rows": null,
            "grid_gap": null,
            "max_width": null,
            "order": null,
            "_view_module_version": "1.2.0",
            "grid_template_areas": null,
            "object_position": null,
            "object_fit": null,
            "grid_auto_columns": null,
            "margin": null,
            "display": null,
            "left": null
          }
        },
        "7dd0d733005d4bbd9a4cba2126b2667c": {
          "model_module": "@jupyter-widgets/controls",
          "model_name": "FloatProgressModel",
          "state": {
            "_view_name": "ProgressView",
            "style": "IPY_MODEL_8f18902cc763420da1ae3a7316071cab",
            "_dom_classes": [],
            "description": "100%",
            "_model_name": "FloatProgressModel",
            "bar_style": "success",
            "max": 10,
            "_view_module": "@jupyter-widgets/controls",
            "_model_module_version": "1.5.0",
            "value": 10,
            "_view_count": null,
            "_view_module_version": "1.5.0",
            "orientation": "horizontal",
            "min": 0,
            "description_tooltip": null,
            "_model_module": "@jupyter-widgets/controls",
            "layout": "IPY_MODEL_d16f238dab814b418c361c7c34f1ec1a"
          }
        },
        "b3297b98b0ac492b85b6b50edf0a3431": {
          "model_module": "@jupyter-widgets/controls",
          "model_name": "HTMLModel",
          "state": {
            "_view_name": "HTMLView",
            "style": "IPY_MODEL_fa74f5d47cb24ca8a61a000aa70e4cd6",
            "_dom_classes": [],
            "description": "",
            "_model_name": "HTMLModel",
            "placeholder": "​",
            "_view_module": "@jupyter-widgets/controls",
            "_model_module_version": "1.5.0",
            "value": " 10/10 [4:13:04&lt;00:00, 1518.45s/it]",
            "_view_count": null,
            "_view_module_version": "1.5.0",
            "description_tooltip": null,
            "_model_module": "@jupyter-widgets/controls",
            "layout": "IPY_MODEL_a65b3215399d4025aac894710dd2dc6e"
          }
        },
        "8f18902cc763420da1ae3a7316071cab": {
          "model_module": "@jupyter-widgets/controls",
          "model_name": "ProgressStyleModel",
          "state": {
            "_view_name": "StyleView",
            "_model_name": "ProgressStyleModel",
            "description_width": "initial",
            "_view_module": "@jupyter-widgets/base",
            "_model_module_version": "1.5.0",
            "_view_count": null,
            "_view_module_version": "1.2.0",
            "bar_color": null,
            "_model_module": "@jupyter-widgets/controls"
          }
        },
        "d16f238dab814b418c361c7c34f1ec1a": {
          "model_module": "@jupyter-widgets/base",
          "model_name": "LayoutModel",
          "state": {
            "_view_name": "LayoutView",
            "grid_template_rows": null,
            "right": null,
            "justify_content": null,
            "_view_module": "@jupyter-widgets/base",
            "overflow": null,
            "_model_module_version": "1.2.0",
            "_view_count": null,
            "flex_flow": null,
            "width": null,
            "min_width": null,
            "border": null,
            "align_items": null,
            "bottom": null,
            "_model_module": "@jupyter-widgets/base",
            "top": null,
            "grid_column": null,
            "overflow_y": null,
            "overflow_x": null,
            "grid_auto_flow": null,
            "grid_area": null,
            "grid_template_columns": null,
            "flex": null,
            "_model_name": "LayoutModel",
            "justify_items": null,
            "grid_row": null,
            "max_height": null,
            "align_content": null,
            "visibility": null,
            "align_self": null,
            "height": null,
            "min_height": null,
            "padding": null,
            "grid_auto_rows": null,
            "grid_gap": null,
            "max_width": null,
            "order": null,
            "_view_module_version": "1.2.0",
            "grid_template_areas": null,
            "object_position": null,
            "object_fit": null,
            "grid_auto_columns": null,
            "margin": null,
            "display": null,
            "left": null
          }
        },
        "fa74f5d47cb24ca8a61a000aa70e4cd6": {
          "model_module": "@jupyter-widgets/controls",
          "model_name": "DescriptionStyleModel",
          "state": {
            "_view_name": "StyleView",
            "_model_name": "DescriptionStyleModel",
            "description_width": "",
            "_view_module": "@jupyter-widgets/base",
            "_model_module_version": "1.5.0",
            "_view_count": null,
            "_view_module_version": "1.2.0",
            "_model_module": "@jupyter-widgets/controls"
          }
        },
        "a65b3215399d4025aac894710dd2dc6e": {
          "model_module": "@jupyter-widgets/base",
          "model_name": "LayoutModel",
          "state": {
            "_view_name": "LayoutView",
            "grid_template_rows": null,
            "right": null,
            "justify_content": null,
            "_view_module": "@jupyter-widgets/base",
            "overflow": null,
            "_model_module_version": "1.2.0",
            "_view_count": null,
            "flex_flow": null,
            "width": null,
            "min_width": null,
            "border": null,
            "align_items": null,
            "bottom": null,
            "_model_module": "@jupyter-widgets/base",
            "top": null,
            "grid_column": null,
            "overflow_y": null,
            "overflow_x": null,
            "grid_auto_flow": null,
            "grid_area": null,
            "grid_template_columns": null,
            "flex": null,
            "_model_name": "LayoutModel",
            "justify_items": null,
            "grid_row": null,
            "max_height": null,
            "align_content": null,
            "visibility": null,
            "align_self": null,
            "height": null,
            "min_height": null,
            "padding": null,
            "grid_auto_rows": null,
            "grid_gap": null,
            "max_width": null,
            "order": null,
            "_view_module_version": "1.2.0",
            "grid_template_areas": null,
            "object_position": null,
            "object_fit": null,
            "grid_auto_columns": null,
            "margin": null,
            "display": null,
            "left": null
          }
        },
        "9c75d0e33aee41a1b8bb532e77985218": {
          "model_module": "@jupyter-widgets/controls",
          "model_name": "HBoxModel",
          "state": {
            "_view_name": "HBoxView",
            "_dom_classes": [],
            "_model_name": "HBoxModel",
            "_view_module": "@jupyter-widgets/controls",
            "_model_module_version": "1.5.0",
            "_view_count": null,
            "_view_module_version": "1.5.0",
            "box_style": "",
            "layout": "IPY_MODEL_ffd8ccc1ac96461d94a0076ed46eea46",
            "_model_module": "@jupyter-widgets/controls",
            "children": [
              "IPY_MODEL_53f27f80c3f14bcba972dccbd7dd0a03",
              "IPY_MODEL_27d11b2a2a3e4bac94565018bacfdb92"
            ]
          }
        },
        "ffd8ccc1ac96461d94a0076ed46eea46": {
          "model_module": "@jupyter-widgets/base",
          "model_name": "LayoutModel",
          "state": {
            "_view_name": "LayoutView",
            "grid_template_rows": null,
            "right": null,
            "justify_content": null,
            "_view_module": "@jupyter-widgets/base",
            "overflow": null,
            "_model_module_version": "1.2.0",
            "_view_count": null,
            "flex_flow": null,
            "width": null,
            "min_width": null,
            "border": null,
            "align_items": null,
            "bottom": null,
            "_model_module": "@jupyter-widgets/base",
            "top": null,
            "grid_column": null,
            "overflow_y": null,
            "overflow_x": null,
            "grid_auto_flow": null,
            "grid_area": null,
            "grid_template_columns": null,
            "flex": null,
            "_model_name": "LayoutModel",
            "justify_items": null,
            "grid_row": null,
            "max_height": null,
            "align_content": null,
            "visibility": null,
            "align_self": null,
            "height": null,
            "min_height": null,
            "padding": null,
            "grid_auto_rows": null,
            "grid_gap": null,
            "max_width": null,
            "order": null,
            "_view_module_version": "1.2.0",
            "grid_template_areas": null,
            "object_position": null,
            "object_fit": null,
            "grid_auto_columns": null,
            "margin": null,
            "display": null,
            "left": null
          }
        },
        "53f27f80c3f14bcba972dccbd7dd0a03": {
          "model_module": "@jupyter-widgets/controls",
          "model_name": "FloatProgressModel",
          "state": {
            "_view_name": "ProgressView",
            "style": "IPY_MODEL_799d87fb113243e59d8853f54a09bfa4",
            "_dom_classes": [],
            "description": "100%",
            "_model_name": "FloatProgressModel",
            "bar_style": "success",
            "max": 1000,
            "_view_module": "@jupyter-widgets/controls",
            "_model_module_version": "1.5.0",
            "value": 1000,
            "_view_count": null,
            "_view_module_version": "1.5.0",
            "orientation": "horizontal",
            "min": 0,
            "description_tooltip": null,
            "_model_module": "@jupyter-widgets/controls",
            "layout": "IPY_MODEL_056186e13d8c46a5864373a195f21442"
          }
        },
        "27d11b2a2a3e4bac94565018bacfdb92": {
          "model_module": "@jupyter-widgets/controls",
          "model_name": "HTMLModel",
          "state": {
            "_view_name": "HTMLView",
            "style": "IPY_MODEL_4990657e09a04851b5b07a0788c93b11",
            "_dom_classes": [],
            "description": "",
            "_model_name": "HTMLModel",
            "placeholder": "​",
            "_view_module": "@jupyter-widgets/controls",
            "_model_module_version": "1.5.0",
            "value": " 1000/1000 [4:10:01&lt;00:00, 15.00s/it]",
            "_view_count": null,
            "_view_module_version": "1.5.0",
            "description_tooltip": null,
            "_model_module": "@jupyter-widgets/controls",
            "layout": "IPY_MODEL_91110e4ce2c64fcfa5d5b293fc92095e"
          }
        },
        "799d87fb113243e59d8853f54a09bfa4": {
          "model_module": "@jupyter-widgets/controls",
          "model_name": "ProgressStyleModel",
          "state": {
            "_view_name": "StyleView",
            "_model_name": "ProgressStyleModel",
            "description_width": "initial",
            "_view_module": "@jupyter-widgets/base",
            "_model_module_version": "1.5.0",
            "_view_count": null,
            "_view_module_version": "1.2.0",
            "bar_color": null,
            "_model_module": "@jupyter-widgets/controls"
          }
        },
        "056186e13d8c46a5864373a195f21442": {
          "model_module": "@jupyter-widgets/base",
          "model_name": "LayoutModel",
          "state": {
            "_view_name": "LayoutView",
            "grid_template_rows": null,
            "right": null,
            "justify_content": null,
            "_view_module": "@jupyter-widgets/base",
            "overflow": null,
            "_model_module_version": "1.2.0",
            "_view_count": null,
            "flex_flow": null,
            "width": null,
            "min_width": null,
            "border": null,
            "align_items": null,
            "bottom": null,
            "_model_module": "@jupyter-widgets/base",
            "top": null,
            "grid_column": null,
            "overflow_y": null,
            "overflow_x": null,
            "grid_auto_flow": null,
            "grid_area": null,
            "grid_template_columns": null,
            "flex": null,
            "_model_name": "LayoutModel",
            "justify_items": null,
            "grid_row": null,
            "max_height": null,
            "align_content": null,
            "visibility": null,
            "align_self": null,
            "height": null,
            "min_height": null,
            "padding": null,
            "grid_auto_rows": null,
            "grid_gap": null,
            "max_width": null,
            "order": null,
            "_view_module_version": "1.2.0",
            "grid_template_areas": null,
            "object_position": null,
            "object_fit": null,
            "grid_auto_columns": null,
            "margin": null,
            "display": null,
            "left": null
          }
        },
        "4990657e09a04851b5b07a0788c93b11": {
          "model_module": "@jupyter-widgets/controls",
          "model_name": "DescriptionStyleModel",
          "state": {
            "_view_name": "StyleView",
            "_model_name": "DescriptionStyleModel",
            "description_width": "",
            "_view_module": "@jupyter-widgets/base",
            "_model_module_version": "1.5.0",
            "_view_count": null,
            "_view_module_version": "1.2.0",
            "_model_module": "@jupyter-widgets/controls"
          }
        },
        "91110e4ce2c64fcfa5d5b293fc92095e": {
          "model_module": "@jupyter-widgets/base",
          "model_name": "LayoutModel",
          "state": {
            "_view_name": "LayoutView",
            "grid_template_rows": null,
            "right": null,
            "justify_content": null,
            "_view_module": "@jupyter-widgets/base",
            "overflow": null,
            "_model_module_version": "1.2.0",
            "_view_count": null,
            "flex_flow": null,
            "width": null,
            "min_width": null,
            "border": null,
            "align_items": null,
            "bottom": null,
            "_model_module": "@jupyter-widgets/base",
            "top": null,
            "grid_column": null,
            "overflow_y": null,
            "overflow_x": null,
            "grid_auto_flow": null,
            "grid_area": null,
            "grid_template_columns": null,
            "flex": null,
            "_model_name": "LayoutModel",
            "justify_items": null,
            "grid_row": null,
            "max_height": null,
            "align_content": null,
            "visibility": null,
            "align_self": null,
            "height": null,
            "min_height": null,
            "padding": null,
            "grid_auto_rows": null,
            "grid_gap": null,
            "max_width": null,
            "order": null,
            "_view_module_version": "1.2.0",
            "grid_template_areas": null,
            "object_position": null,
            "object_fit": null,
            "grid_auto_columns": null,
            "margin": null,
            "display": null,
            "left": null
          }
        },
        "09a195ed44744bad91868ad51004621e": {
          "model_module": "@jupyter-widgets/controls",
          "model_name": "HBoxModel",
          "state": {
            "_view_name": "HBoxView",
            "_dom_classes": [],
            "_model_name": "HBoxModel",
            "_view_module": "@jupyter-widgets/controls",
            "_model_module_version": "1.5.0",
            "_view_count": null,
            "_view_module_version": "1.5.0",
            "box_style": "",
            "layout": "IPY_MODEL_9121bf9021d646009c99c2491e388536",
            "_model_module": "@jupyter-widgets/controls",
            "children": [
              "IPY_MODEL_e16ddd4b6b7f4c808eeec6196a5b08d7",
              "IPY_MODEL_6d7d9fa6f71b423ba8f48fa1fdefa1b1"
            ]
          }
        },
        "9121bf9021d646009c99c2491e388536": {
          "model_module": "@jupyter-widgets/base",
          "model_name": "LayoutModel",
          "state": {
            "_view_name": "LayoutView",
            "grid_template_rows": null,
            "right": null,
            "justify_content": null,
            "_view_module": "@jupyter-widgets/base",
            "overflow": null,
            "_model_module_version": "1.2.0",
            "_view_count": null,
            "flex_flow": null,
            "width": null,
            "min_width": null,
            "border": null,
            "align_items": null,
            "bottom": null,
            "_model_module": "@jupyter-widgets/base",
            "top": null,
            "grid_column": null,
            "overflow_y": null,
            "overflow_x": null,
            "grid_auto_flow": null,
            "grid_area": null,
            "grid_template_columns": null,
            "flex": null,
            "_model_name": "LayoutModel",
            "justify_items": null,
            "grid_row": null,
            "max_height": null,
            "align_content": null,
            "visibility": null,
            "align_self": null,
            "height": null,
            "min_height": null,
            "padding": null,
            "grid_auto_rows": null,
            "grid_gap": null,
            "max_width": null,
            "order": null,
            "_view_module_version": "1.2.0",
            "grid_template_areas": null,
            "object_position": null,
            "object_fit": null,
            "grid_auto_columns": null,
            "margin": null,
            "display": null,
            "left": null
          }
        },
        "e16ddd4b6b7f4c808eeec6196a5b08d7": {
          "model_module": "@jupyter-widgets/controls",
          "model_name": "FloatProgressModel",
          "state": {
            "_view_name": "ProgressView",
            "style": "IPY_MODEL_d1025588290e4cc89cb9154f56a9ac9f",
            "_dom_classes": [],
            "description": "100%",
            "_model_name": "FloatProgressModel",
            "bar_style": "success",
            "max": 10,
            "_view_module": "@jupyter-widgets/controls",
            "_model_module_version": "1.5.0",
            "value": 10,
            "_view_count": null,
            "_view_module_version": "1.5.0",
            "orientation": "horizontal",
            "min": 0,
            "description_tooltip": null,
            "_model_module": "@jupyter-widgets/controls",
            "layout": "IPY_MODEL_45f89057ce8142679de8bb813a1ff6cd"
          }
        },
        "6d7d9fa6f71b423ba8f48fa1fdefa1b1": {
          "model_module": "@jupyter-widgets/controls",
          "model_name": "HTMLModel",
          "state": {
            "_view_name": "HTMLView",
            "style": "IPY_MODEL_68f0cd478af74b7cbe12d3677addf01f",
            "_dom_classes": [],
            "description": "",
            "_model_name": "HTMLModel",
            "placeholder": "​",
            "_view_module": "@jupyter-widgets/controls",
            "_model_module_version": "1.5.0",
            "value": " 10/10 [04:56&lt;00:00, 29.62s/it]",
            "_view_count": null,
            "_view_module_version": "1.5.0",
            "description_tooltip": null,
            "_model_module": "@jupyter-widgets/controls",
            "layout": "IPY_MODEL_943c7453cf8744bdba398a3ff43efd36"
          }
        },
        "d1025588290e4cc89cb9154f56a9ac9f": {
          "model_module": "@jupyter-widgets/controls",
          "model_name": "ProgressStyleModel",
          "state": {
            "_view_name": "StyleView",
            "_model_name": "ProgressStyleModel",
            "description_width": "initial",
            "_view_module": "@jupyter-widgets/base",
            "_model_module_version": "1.5.0",
            "_view_count": null,
            "_view_module_version": "1.2.0",
            "bar_color": null,
            "_model_module": "@jupyter-widgets/controls"
          }
        },
        "45f89057ce8142679de8bb813a1ff6cd": {
          "model_module": "@jupyter-widgets/base",
          "model_name": "LayoutModel",
          "state": {
            "_view_name": "LayoutView",
            "grid_template_rows": null,
            "right": null,
            "justify_content": null,
            "_view_module": "@jupyter-widgets/base",
            "overflow": null,
            "_model_module_version": "1.2.0",
            "_view_count": null,
            "flex_flow": null,
            "width": null,
            "min_width": null,
            "border": null,
            "align_items": null,
            "bottom": null,
            "_model_module": "@jupyter-widgets/base",
            "top": null,
            "grid_column": null,
            "overflow_y": null,
            "overflow_x": null,
            "grid_auto_flow": null,
            "grid_area": null,
            "grid_template_columns": null,
            "flex": null,
            "_model_name": "LayoutModel",
            "justify_items": null,
            "grid_row": null,
            "max_height": null,
            "align_content": null,
            "visibility": null,
            "align_self": null,
            "height": null,
            "min_height": null,
            "padding": null,
            "grid_auto_rows": null,
            "grid_gap": null,
            "max_width": null,
            "order": null,
            "_view_module_version": "1.2.0",
            "grid_template_areas": null,
            "object_position": null,
            "object_fit": null,
            "grid_auto_columns": null,
            "margin": null,
            "display": null,
            "left": null
          }
        },
        "68f0cd478af74b7cbe12d3677addf01f": {
          "model_module": "@jupyter-widgets/controls",
          "model_name": "DescriptionStyleModel",
          "state": {
            "_view_name": "StyleView",
            "_model_name": "DescriptionStyleModel",
            "description_width": "",
            "_view_module": "@jupyter-widgets/base",
            "_model_module_version": "1.5.0",
            "_view_count": null,
            "_view_module_version": "1.2.0",
            "_model_module": "@jupyter-widgets/controls"
          }
        },
        "943c7453cf8744bdba398a3ff43efd36": {
          "model_module": "@jupyter-widgets/base",
          "model_name": "LayoutModel",
          "state": {
            "_view_name": "LayoutView",
            "grid_template_rows": null,
            "right": null,
            "justify_content": null,
            "_view_module": "@jupyter-widgets/base",
            "overflow": null,
            "_model_module_version": "1.2.0",
            "_view_count": null,
            "flex_flow": null,
            "width": null,
            "min_width": null,
            "border": null,
            "align_items": null,
            "bottom": null,
            "_model_module": "@jupyter-widgets/base",
            "top": null,
            "grid_column": null,
            "overflow_y": null,
            "overflow_x": null,
            "grid_auto_flow": null,
            "grid_area": null,
            "grid_template_columns": null,
            "flex": null,
            "_model_name": "LayoutModel",
            "justify_items": null,
            "grid_row": null,
            "max_height": null,
            "align_content": null,
            "visibility": null,
            "align_self": null,
            "height": null,
            "min_height": null,
            "padding": null,
            "grid_auto_rows": null,
            "grid_gap": null,
            "max_width": null,
            "order": null,
            "_view_module_version": "1.2.0",
            "grid_template_areas": null,
            "object_position": null,
            "object_fit": null,
            "grid_auto_columns": null,
            "margin": null,
            "display": null,
            "left": null
          }
        }
      }
    }
  },
  "cells": [
    {
      "cell_type": "markdown",
      "metadata": {
        "id": "view-in-github",
        "colab_type": "text"
      },
      "source": [
        "<a href=\"https://colab.research.google.com/github/kfuentestorres/Master-BI-BDA---Homeworks/blob/master/Review_Bombing.ipynb\" target=\"_parent\"><img src=\"https://colab.research.google.com/assets/colab-badge.svg\" alt=\"Open In Colab\"/></a>"
      ]
    },
    {
      "cell_type": "code",
      "metadata": {
        "id": "6E11q1711nmO",
        "colab_type": "code",
        "colab": {
          "base_uri": "https://localhost:8080/",
          "height": 459
        },
        "outputId": "f7a8c435-d4d6-4388-80b1-68d48006ba90"
      },
      "source": [
        "!pip install selenium\n",
        "!apt-get update\n",
        "!apt install chromium-chromedriver\n",
        "!cp /usr/lib/chromium-browser/chromedriver /usr/bin"
      ],
      "execution_count": 42,
      "outputs": [
        {
          "output_type": "stream",
          "text": [
            "Requirement already satisfied: selenium in /usr/local/lib/python3.6/dist-packages (3.141.0)\n",
            "Requirement already satisfied: urllib3 in /usr/local/lib/python3.6/dist-packages (from selenium) (1.24.3)\n",
            "Hit:1 http://ppa.launchpad.net/graphics-drivers/ppa/ubuntu bionic InRelease\n",
            "Get:2 http://security.ubuntu.com/ubuntu bionic-security InRelease [88.7 kB]\n",
            "Hit:3 http://archive.ubuntu.com/ubuntu bionic InRelease\n",
            "Get:4 http://ppa.launchpad.net/marutter/c2d4u3.5/ubuntu bionic InRelease [15.4 kB]\n",
            "Get:5 http://archive.ubuntu.com/ubuntu bionic-updates InRelease [88.7 kB]\n",
            "Get:6 https://cloud.r-project.org/bin/linux/ubuntu bionic-cran35/ InRelease [3,626 B]\n",
            "Get:7 http://archive.ubuntu.com/ubuntu bionic-backports InRelease [74.6 kB]\n",
            "Ign:8 https://developer.download.nvidia.com/compute/cuda/repos/ubuntu1804/x86_64  InRelease\n",
            "Ign:9 https://developer.download.nvidia.com/compute/machine-learning/repos/ubuntu1804/x86_64  InRelease\n",
            "Hit:10 https://developer.download.nvidia.com/compute/cuda/repos/ubuntu1804/x86_64  Release\n",
            "Hit:11 https://developer.download.nvidia.com/compute/machine-learning/repos/ubuntu1804/x86_64  Release\n",
            "Get:12 http://ppa.launchpad.net/marutter/c2d4u3.5/ubuntu bionic/main Sources [1,842 kB]\n",
            "Get:13 http://ppa.launchpad.net/marutter/c2d4u3.5/ubuntu bionic/main amd64 Packages [889 kB]\n",
            "Fetched 3,001 kB in 2s (1,598 kB/s)\n",
            "Reading package lists... Done\n",
            "Reading package lists... Done\n",
            "Building dependency tree       \n",
            "Reading state information... Done\n",
            "chromium-chromedriver is already the newest version (83.0.4103.61-0ubuntu0.18.04.1).\n",
            "The following package was automatically installed and is no longer required:\n",
            "  libnvidia-common-440\n",
            "Use 'apt autoremove' to remove it.\n",
            "0 upgraded, 0 newly installed, 0 to remove and 64 not upgraded.\n",
            "cp: '/usr/lib/chromium-browser/chromedriver' and '/usr/bin/chromedriver' are the same file\n"
          ],
          "name": "stdout"
        }
      ]
    },
    {
      "cell_type": "code",
      "metadata": {
        "id": "YRt5yEXxA-jW",
        "colab_type": "code",
        "colab": {}
      },
      "source": [
        "import sys\n",
        "sys.path.insert(0,'/usr/lib/chromium-browser/chromedriver')\n",
        "from selenium import webdriver\n",
        "from tqdm import tqdm_notebook as tqdm\n",
        "import pandas\n",
        "import json\n",
        "import pprint"
      ],
      "execution_count": 43,
      "outputs": []
    },
    {
      "cell_type": "code",
      "metadata": {
        "id": "DTfvdy_gBCBU",
        "colab_type": "code",
        "colab": {}
      },
      "source": [
        "chrome_options = webdriver.ChromeOptions()\n",
        "chrome_options.add_argument('--headless') #nasconde browser all'interno del sistema operativo (non vedo che lavora)\n",
        "chrome_options.add_argument('--no-sandbox')\n",
        "chrome_options.add_argument('--disable-dev-shm-usage')"
      ],
      "execution_count": 44,
      "outputs": []
    },
    {
      "cell_type": "code",
      "metadata": {
        "id": "D6MLvqs9BIzI",
        "colab_type": "code",
        "colab": {
          "base_uri": "https://localhost:8080/",
          "height": 51
        },
        "outputId": "f9a9e3de-c270-4314-b683-8adf24175563"
      },
      "source": [
        "wd = webdriver.Chrome('chromedriver',chrome_options=chrome_options)\n",
        "wd.get(\"https://www.metacritic.com/browse/games/score/metascore/all/all/filtered\")"
      ],
      "execution_count": null,
      "outputs": [
        {
          "output_type": "stream",
          "text": [
            "/usr/local/lib/python3.6/dist-packages/ipykernel_launcher.py:1: DeprecationWarning: use options instead of chrome_options\n",
            "  \"\"\"Entry point for launching an IPython kernel.\n"
          ],
          "name": "stderr"
        }
      ]
    },
    {
      "cell_type": "code",
      "metadata": {
        "id": "iBCZSC4dWfKW",
        "colab_type": "code",
        "colab": {
          "base_uri": "https://localhost:8080/",
          "height": 337
        },
        "outputId": "9eb5b096-6dfc-4674-96be-1fc742d472ca"
      },
      "source": [
        "wd.save_screenshot('screenshot.png')\n",
        "\n",
        "%pylab inline\n",
        "import matplotlib.pyplot as plt\n",
        "import matplotlib.image as mpimg\n",
        "img=mpimg.imread('/content/screenshot.png')\n",
        "imgplot = plt.imshow(img)\n",
        "plt.show()"
      ],
      "execution_count": null,
      "outputs": [
        {
          "output_type": "stream",
          "text": [
            "Populating the interactive namespace from numpy and matplotlib\n"
          ],
          "name": "stdout"
        },
        {
          "output_type": "stream",
          "text": [
            "/usr/local/lib/python3.6/dist-packages/IPython/core/magics/pylab.py:161: UserWarning: pylab import has clobbered these variables: ['title']\n",
            "`%matplotlib` prevents importing * from pylab and numpy\n",
            "  \"\\n`%matplotlib` prevents importing * from pylab and numpy\"\n"
          ],
          "name": "stderr"
        },
        {
          "output_type": "display_data",
          "data": {
            "image/png": "[encoded data removed]",
            "text/plain": [
              "<Figure size 432x288 with 1 Axes>"
            ]
          },
          "metadata": {
            "tags": [],
            "needs_background": "light"
          }
        }
      ]
    },
    {
      "cell_type": "markdown",
      "metadata": {
        "id": "A1ETBqlPcQhl",
        "colab_type": "text"
      },
      "source": [
        "# Reviews from Metacritic\n",
        "\n"
      ]
    },
    {
      "cell_type": "code",
      "metadata": {
        "id": "_V1hNO9ZcJy6",
        "colab_type": "code",
        "colab": {
          "base_uri": "https://localhost:8080/",
          "height": 34
        },
        "outputId": "22f23f73-9053-4a50-b8ce-bb2391941306"
      },
      "source": [
        "reviews = wd.find_elements_by_css_selector(\"td.clamp-summary-wrap\")\n",
        "print(len(reviews))"
      ],
      "execution_count": null,
      "outputs": [
        {
          "output_type": "stream",
          "text": [
            "100\n"
          ],
          "name": "stdout"
        }
      ]
    },
    {
      "cell_type": "code",
      "metadata": {
        "id": "DM_7n1fAWWPZ",
        "colab_type": "code",
        "colab": {
          "base_uri": "https://localhost:8080/",
          "height": 139
        },
        "outputId": "d5a6faa1-5442-41c8-bbd6-bcac24e93382"
      },
      "source": [
        "print(reviews[0].text)"
      ],
      "execution_count": null,
      "outputs": [
        {
          "output_type": "stream",
          "text": [
            "99\n",
            "1.\n",
            "The Legend of Zelda: Ocarina of Time\n",
            "Platform: Nintendo 64\n",
            "November 23, 1998\n",
            "As a young boy, Link is tricked by Ganondorf, the King of the Gerudo Thieves. The evil human uses Link to gain access to the Sacred Realm, where he places his tainted hands on Triforce and transforms the beautiful Hyrulean landscape into a barren wasteland. Link is determined to fix the problems he helped to create, so with the help of Rauru he travels through time gathering the powers of the Seven Sages.\n"
          ],
          "name": "stdout"
        }
      ]
    },
    {
      "cell_type": "code",
      "metadata": {
        "id": "10gKxXm-WjIP",
        "colab_type": "code",
        "colab": {
          "base_uri": "https://localhost:8080/",
          "height": 34
        },
        "outputId": "811f6f47-da47-44dc-a74d-e872c4f1e655"
      },
      "source": [
        "print(reviews[0].find_elements_by_css_selector(\"a h3\")[0].text)"
      ],
      "execution_count": null,
      "outputs": [
        {
          "output_type": "stream",
          "text": [
            "The Legend of Zelda: Ocarina of Time\n"
          ],
          "name": "stdout"
        }
      ]
    },
    {
      "cell_type": "code",
      "metadata": {
        "id": "GQSvAyO7bgyT",
        "colab_type": "code",
        "colab": {
          "base_uri": "https://localhost:8080/",
          "height": 34
        },
        "outputId": "b4d33614-d479-4245-a381-25de95111120"
      },
      "source": [
        "print(reviews[0].find_elements_by_css_selector(\"input\")[0].get_attribute(\"id\"))"
      ],
      "execution_count": null,
      "outputs": [
        {
          "output_type": "stream",
          "text": [
            "160692\n"
          ],
          "name": "stdout"
        }
      ]
    },
    {
      "cell_type": "code",
      "metadata": {
        "id": "gh21EaGBnqvM",
        "colab_type": "code",
        "colab": {
          "base_uri": "https://localhost:8080/",
          "height": 34
        },
        "outputId": "d5f8070a-2473-419d-af71-261b2dc2871f"
      },
      "source": [
        "print(reviews[0].find_elements_by_css_selector(\"a.title\")[0].get_attribute(\"href\"))"
      ],
      "execution_count": null,
      "outputs": [
        {
          "output_type": "stream",
          "text": [
            "https://www.metacritic.com/game/nintendo-64/the-legend-of-zelda-ocarina-of-time\n"
          ],
          "name": "stdout"
        }
      ]
    },
    {
      "cell_type": "code",
      "metadata": {
        "id": "tD3KLUrIfTJd",
        "colab_type": "code",
        "colab": {}
      },
      "source": [
        "def parse_review(review):\n",
        "  try:\n",
        "    review_id = review.find_elements_by_css_selector(\"input\")[0].get_attribute(\"id\")\n",
        "    title = review.find_elements_by_css_selector(\"a h3\")[0].text\n",
        "    url = review.find_elements_by_css_selector(\"a.title\")[0].get_attribute(\"href\")\n",
        "  except:\n",
        "    print(\"passato\")\n",
        "    pass\n",
        "  return {'review_id': review_id,\n",
        "          'url': url,\n",
        "          'title': title}\n"
      ],
      "execution_count": null,
      "outputs": []
    },
    {
      "cell_type": "code",
      "metadata": {
        "id": "MxrxEW2YhYNS",
        "colab_type": "code",
        "colab": {
          "base_uri": "https://localhost:8080/",
          "height": 68
        },
        "outputId": "c2b44b09-8106-407b-f6cb-a569e003aaa7"
      },
      "source": [
        "parse_review(reviews[0])"
      ],
      "execution_count": null,
      "outputs": [
        {
          "output_type": "execute_result",
          "data": {
            "text/plain": [
              "{'review_id': '160692',\n",
              " 'title': 'The Legend of Zelda: Ocarina of Time',\n",
              " 'url': 'https://www.metacritic.com/game/nintendo-64/the-legend-of-zelda-ocarina-of-time'}"
            ]
          },
          "metadata": {
            "tags": []
          },
          "execution_count": 23
        }
      ]
    },
    {
      "cell_type": "code",
      "metadata": {
        "id": "TfWSS_33fbZg",
        "colab_type": "code",
        "colab": {
          "base_uri": "https://localhost:8080/",
          "height": 134,
          "referenced_widgets": [
            "f4e7f7445afe4724a98223615bdfffd4",
            "92b9671ae08d44de9ab9d0dffb644ee0",
            "7dd0d733005d4bbd9a4cba2126b2667c",
            "b3297b98b0ac492b85b6b50edf0a3431",
            "8f18902cc763420da1ae3a7316071cab",
            "d16f238dab814b418c361c7c34f1ec1a",
            "fa74f5d47cb24ca8a61a000aa70e4cd6",
            "a65b3215399d4025aac894710dd2dc6e"
          ]
        },
        "outputId": "31900878-b4fb-41fd-a4e3-8d3370acc8cb"
      },
      "source": [
        "import time\n",
        "detail_reviews = []\n",
        "for num in tqdm(range(0,10)):\n",
        "  time.sleep(1)\n",
        "  wd.get(f\"https://www.metacritic.com/browse/games/score/metascore/all/all/filtered?page={num}\")\n",
        "  list_reviews = wd.find_elements_by_css_selector(\"td.clamp-summary-wrap\")\n",
        "  for review in list_reviews:\n",
        "    detail_reviews.append(parse_review(review))\n",
        "\n",
        "print(len(detail_reviews))"
      ],
      "execution_count": null,
      "outputs": [
        {
          "output_type": "stream",
          "text": [
            "/usr/local/lib/python3.6/dist-packages/ipykernel_launcher.py:3: TqdmDeprecationWarning: This function will be removed in tqdm==5.0.0\n",
            "Please use `tqdm.notebook.tqdm` instead of `tqdm.tqdm_notebook`\n",
            "  This is separate from the ipykernel package so we can avoid doing imports until\n"
          ],
          "name": "stderr"
        },
        {
          "output_type": "display_data",
          "data": {
            "application/vnd.jupyter.widget-view+json": {
              "model_id": "f4e7f7445afe4724a98223615bdfffd4",
              "version_minor": 0,
              "version_major": 2
            },
            "text/plain": [
              "HBox(children=(FloatProgress(value=0.0, max=10.0), HTML(value='')))"
            ]
          },
          "metadata": {
            "tags": []
          }
        },
        {
          "output_type": "stream",
          "text": [
            "\n",
            "1000\n"
          ],
          "name": "stdout"
        }
      ]
    },
    {
      "cell_type": "code",
      "metadata": {
        "id": "c8KxBLr5knV4",
        "colab_type": "code",
        "colab": {
          "base_uri": "https://localhost:8080/",
          "height": 34
        },
        "outputId": "d07c0976-7e96-43bd-909f-d3861a1ecc7a"
      },
      "source": [
        "print(len(detail_reviews))"
      ],
      "execution_count": null,
      "outputs": [
        {
          "output_type": "stream",
          "text": [
            "1000\n"
          ],
          "name": "stdout"
        }
      ]
    },
    {
      "cell_type": "code",
      "metadata": {
        "id": "MumFgyNypoBo",
        "colab_type": "code",
        "colab": {
          "base_uri": "https://localhost:8080/",
          "height": 204
        },
        "outputId": "b9c4862a-1dd8-4877-be80-39f94524d1b6"
      },
      "source": [
        "import pandas as pd\n",
        "ds_detail_reviews = pd.DataFrame(detail_reviews)\n",
        "ds_detail_reviews.set_index(\"review_id\")\n",
        "ds_detail_reviews.head()"
      ],
      "execution_count": null,
      "outputs": [
        {
          "output_type": "execute_result",
          "data": {
            "text/html": [
              "<div>\n",
              "<style scoped>\n",
              "    .dataframe tbody tr th:only-of-type {\n",
              "        vertical-align: middle;\n",
              "    }\n",
              "\n",
              "    .dataframe tbody tr th {\n",
              "        vertical-align: top;\n",
              "    }\n",
              "\n",
              "    .dataframe thead th {\n",
              "        text-align: right;\n",
              "    }\n",
              "</style>\n",
              "<table border=\"1\" class=\"dataframe\">\n",
              "  <thead>\n",
              "    <tr style=\"text-align: right;\">\n",
              "      <th></th>\n",
              "      <th>review_id</th>\n",
              "      <th>url</th>\n",
              "      <th>title</th>\n",
              "    </tr>\n",
              "  </thead>\n",
              "  <tbody>\n",
              "    <tr>\n",
              "      <th>0</th>\n",
              "      <td>160692</td>\n",
              "      <td>https://www.metacritic.com/game/nintendo-64/th...</td>\n",
              "      <td>The Legend of Zelda: Ocarina of Time</td>\n",
              "    </tr>\n",
              "    <tr>\n",
              "      <th>1</th>\n",
              "      <td>160779</td>\n",
              "      <td>https://www.metacritic.com/game/playstation/to...</td>\n",
              "      <td>Tony Hawk's Pro Skater 2</td>\n",
              "    </tr>\n",
              "    <tr>\n",
              "      <th>2</th>\n",
              "      <td>108362</td>\n",
              "      <td>https://www.metacritic.com/game/playstation-3/...</td>\n",
              "      <td>Grand Theft Auto IV</td>\n",
              "    </tr>\n",
              "    <tr>\n",
              "      <th>3</th>\n",
              "      <td>160751</td>\n",
              "      <td>https://www.metacritic.com/game/dreamcast/soul...</td>\n",
              "      <td>SoulCalibur</td>\n",
              "    </tr>\n",
              "    <tr>\n",
              "      <th>4</th>\n",
              "      <td>108363</td>\n",
              "      <td>https://www.metacritic.com/game/xbox-360/grand...</td>\n",
              "      <td>Grand Theft Auto IV</td>\n",
              "    </tr>\n",
              "  </tbody>\n",
              "</table>\n",
              "</div>"
            ],
            "text/plain": [
              "  review_id  ...                                 title\n",
              "0    160692  ...  The Legend of Zelda: Ocarina of Time\n",
              "1    160779  ...              Tony Hawk's Pro Skater 2\n",
              "2    108362  ...                   Grand Theft Auto IV\n",
              "3    160751  ...                           SoulCalibur\n",
              "4    108363  ...                   Grand Theft Auto IV\n",
              "\n",
              "[5 rows x 3 columns]"
            ]
          },
          "metadata": {
            "tags": []
          },
          "execution_count": 26
        }
      ]
    },
    {
      "cell_type": "code",
      "metadata": {
        "id": "_tFbyPwcrNY4",
        "colab_type": "code",
        "colab": {
          "base_uri": "https://localhost:8080/",
          "height": 187
        },
        "outputId": "8a70a0a5-df50-4645-aec7-642b9de117de"
      },
      "source": [
        "ds_detail_reviews.info()"
      ],
      "execution_count": null,
      "outputs": [
        {
          "output_type": "stream",
          "text": [
            "<class 'pandas.core.frame.DataFrame'>\n",
            "RangeIndex: 1000 entries, 0 to 999\n",
            "Data columns (total 3 columns):\n",
            " #   Column     Non-Null Count  Dtype \n",
            "---  ------     --------------  ----- \n",
            " 0   review_id  1000 non-null   object\n",
            " 1   url        1000 non-null   object\n",
            " 2   title      1000 non-null   object\n",
            "dtypes: object(3)\n",
            "memory usage: 23.6+ KB\n"
          ],
          "name": "stdout"
        }
      ]
    },
    {
      "cell_type": "code",
      "metadata": {
        "id": "3lUw4-_BrQDh",
        "colab_type": "code",
        "colab": {}
      },
      "source": [
        "ds_detail_reviews.to_csv('ds_reviews.csv')"
      ],
      "execution_count": null,
      "outputs": []
    },
    {
      "cell_type": "code",
      "metadata": {
        "id": "yVnUyfGsvcac",
        "colab_type": "code",
        "colab": {
          "base_uri": "https://localhost:8080/",
          "height": 235
        },
        "outputId": "56e8b117-c5bf-4027-cb61-0048d7d7bf9c"
      },
      "source": [
        "# open csv file\n",
        "import pandas as pd\n",
        "ds_detail_reviews = pd.read_csv(\"ds_reviews.csv\", index_col=\"review_id\")\n",
        "ds_detail_reviews.head()"
      ],
      "execution_count": null,
      "outputs": [
        {
          "output_type": "execute_result",
          "data": {
            "text/html": [
              "<div>\n",
              "<style scoped>\n",
              "    .dataframe tbody tr th:only-of-type {\n",
              "        vertical-align: middle;\n",
              "    }\n",
              "\n",
              "    .dataframe tbody tr th {\n",
              "        vertical-align: top;\n",
              "    }\n",
              "\n",
              "    .dataframe thead th {\n",
              "        text-align: right;\n",
              "    }\n",
              "</style>\n",
              "<table border=\"1\" class=\"dataframe\">\n",
              "  <thead>\n",
              "    <tr style=\"text-align: right;\">\n",
              "      <th></th>\n",
              "      <th>Unnamed: 0</th>\n",
              "      <th>url</th>\n",
              "      <th>title</th>\n",
              "    </tr>\n",
              "    <tr>\n",
              "      <th>review_id</th>\n",
              "      <th></th>\n",
              "      <th></th>\n",
              "      <th></th>\n",
              "    </tr>\n",
              "  </thead>\n",
              "  <tbody>\n",
              "    <tr>\n",
              "      <th>160692</th>\n",
              "      <td>0</td>\n",
              "      <td>https://www.metacritic.com/game/nintendo-64/th...</td>\n",
              "      <td>The Legend of Zelda: Ocarina of Time</td>\n",
              "    </tr>\n",
              "    <tr>\n",
              "      <th>160779</th>\n",
              "      <td>1</td>\n",
              "      <td>https://www.metacritic.com/game/playstation/to...</td>\n",
              "      <td>Tony Hawk's Pro Skater 2</td>\n",
              "    </tr>\n",
              "    <tr>\n",
              "      <th>108362</th>\n",
              "      <td>2</td>\n",
              "      <td>https://www.metacritic.com/game/playstation-3/...</td>\n",
              "      <td>Grand Theft Auto IV</td>\n",
              "    </tr>\n",
              "    <tr>\n",
              "      <th>160751</th>\n",
              "      <td>3</td>\n",
              "      <td>https://www.metacritic.com/game/dreamcast/soul...</td>\n",
              "      <td>SoulCalibur</td>\n",
              "    </tr>\n",
              "    <tr>\n",
              "      <th>108363</th>\n",
              "      <td>4</td>\n",
              "      <td>https://www.metacritic.com/game/xbox-360/grand...</td>\n",
              "      <td>Grand Theft Auto IV</td>\n",
              "    </tr>\n",
              "  </tbody>\n",
              "</table>\n",
              "</div>"
            ],
            "text/plain": [
              "           Unnamed: 0  ...                                 title\n",
              "review_id              ...                                      \n",
              "160692              0  ...  The Legend of Zelda: Ocarina of Time\n",
              "160779              1  ...              Tony Hawk's Pro Skater 2\n",
              "108362              2  ...                   Grand Theft Auto IV\n",
              "160751              3  ...                           SoulCalibur\n",
              "108363              4  ...                   Grand Theft Auto IV\n",
              "\n",
              "[5 rows x 3 columns]"
            ]
          },
          "metadata": {
            "tags": []
          },
          "execution_count": 29
        }
      ]
    },
    {
      "cell_type": "code",
      "metadata": {
        "id": "wZjP2cfE5h_-",
        "colab_type": "code",
        "colab": {
          "base_uri": "https://localhost:8080/",
          "height": 136
        },
        "outputId": "97f1bc86-0d03-4558-d116-2eef24dfbec8"
      },
      "source": [
        "ds_detail_reviews['url'].head()"
      ],
      "execution_count": null,
      "outputs": [
        {
          "output_type": "execute_result",
          "data": {
            "text/plain": [
              "review_id\n",
              "160692    https://www.metacritic.com/game/nintendo-64/th...\n",
              "160779    https://www.metacritic.com/game/playstation/to...\n",
              "108362    https://www.metacritic.com/game/playstation-3/...\n",
              "160751    https://www.metacritic.com/game/dreamcast/soul...\n",
              "108363    https://www.metacritic.com/game/xbox-360/grand...\n",
              "Name: url, dtype: object"
            ]
          },
          "metadata": {
            "tags": []
          },
          "execution_count": 30
        }
      ]
    },
    {
      "cell_type": "code",
      "metadata": {
        "id": "8yCJ96HbtoUH",
        "colab_type": "code",
        "colab": {
          "base_uri": "https://localhost:8080/",
          "height": 1000,
          "referenced_widgets": [
            "9c75d0e33aee41a1b8bb532e77985218",
            "ffd8ccc1ac96461d94a0076ed46eea46",
            "53f27f80c3f14bcba972dccbd7dd0a03",
            "27d11b2a2a3e4bac94565018bacfdb92",
            "799d87fb113243e59d8853f54a09bfa4",
            "056186e13d8c46a5864373a195f21442",
            "4990657e09a04851b5b07a0788c93b11",
            "91110e4ce2c64fcfa5d5b293fc92095e"
          ]
        },
        "outputId": "73fe8baa-899c-4fcd-e1b2-2ed1e7a86955"
      },
      "source": [
        "detail_score = []\n",
        "for review_id, review in tqdm(ds_detail_reviews.iterrows(),total=ds_detail_reviews.shape[0]):\n",
        "  time.sleep(1)\n",
        "  url = review[\"url\"]\n",
        "  wd.get(url)\n",
        "  try:\n",
        "    title = wd.find_elements_by_css_selector(\"a h1\")[0].text\n",
        "    platform = wd.find_elements_by_css_selector(\"li.summary_detail.publisher > span.data > a\")[0].text\n",
        "    publisher = wd.find_elements_by_css_selector(\"li.publisher span.data\")[0].text\n",
        "    developer = wd.find_elements_by_css_selector(\"li.developer span.data\")[0].text\n",
        "    genre = wd.find_elements_by_css_selector(\"li.product_genre\")[0].text\n",
        "    players = wd.find_elements_by_css_selector(\"li.product_players span.data\")[0].text\n",
        "    release = wd.find_elements_by_css_selector(\"li.release_data span.data\")[0].text\n",
        "    score_meta = wd.find_elements_by_css_selector(\"div.game span\")[0].text\n",
        "    score_user = wd.find_elements_by_css_selector(\"div.details.side_details > div:nth-child(1) > div > a > div\")[0].text\n",
        "  except:\n",
        "    print(\"passato\")\n",
        "    pass\n",
        "  detail_score.append ({'review_id': review_id,\n",
        "                      'title': title,\n",
        "                      'platform': platform,\n",
        "                      'publisher': publisher,\n",
        "                      'developer': developer,\n",
        "                      'genre': genre,\n",
        "                      'players': players,\n",
        "                      'release': release,\n",
        "                      'score_meta': score_meta,\n",
        "                      'score_user': score_user})"
      ],
      "execution_count": null,
      "outputs": [
        {
          "output_type": "stream",
          "text": [
            "/usr/local/lib/python3.6/dist-packages/ipykernel_launcher.py:2: TqdmDeprecationWarning: This function will be removed in tqdm==5.0.0\n",
            "Please use `tqdm.notebook.tqdm` instead of `tqdm.tqdm_notebook`\n",
            "  \n"
          ],
          "name": "stderr"
        },
        {
          "output_type": "display_data",
          "data": {
            "application/vnd.jupyter.widget-view+json": {
              "model_id": "9c75d0e33aee41a1b8bb532e77985218",
              "version_minor": 0,
              "version_major": 2
            },
            "text/plain": [
              "HBox(children=(FloatProgress(value=0.0, max=1000.0), HTML(value='')))"
            ]
          },
          "metadata": {
            "tags": []
          }
        },
        {
          "output_type": "stream",
          "text": [
            "passato\n",
            "passato\n",
            "passato\n",
            "passato\n",
            "passato\n",
            "passato\n",
            "passato\n",
            "passato\n",
            "passato\n",
            "passato\n",
            "passato\n",
            "passato\n",
            "passato\n",
            "passato\n",
            "passato\n",
            "passato\n",
            "passato\n",
            "passato\n",
            "passato\n",
            "passato\n",
            "passato\n",
            "passato\n",
            "passato\n",
            "passato\n",
            "passato\n",
            "passato\n",
            "passato\n",
            "passato\n",
            "passato\n",
            "passato\n",
            "passato\n",
            "passato\n",
            "passato\n",
            "passato\n",
            "passato\n",
            "passato\n",
            "passato\n",
            "passato\n",
            "passato\n",
            "passato\n",
            "passato\n",
            "passato\n",
            "passato\n",
            "passato\n",
            "passato\n",
            "passato\n",
            "passato\n",
            "passato\n",
            "passato\n",
            "passato\n",
            "passato\n",
            "passato\n",
            "passato\n",
            "passato\n",
            "passato\n",
            "passato\n",
            "passato\n",
            "passato\n",
            "passato\n",
            "passato\n",
            "passato\n",
            "passato\n",
            "passato\n",
            "passato\n",
            "passato\n",
            "passato\n",
            "passato\n",
            "passato\n",
            "passato\n",
            "passato\n",
            "passato\n",
            "passato\n",
            "passato\n",
            "passato\n",
            "passato\n",
            "passato\n",
            "passato\n",
            "passato\n",
            "passato\n",
            "passato\n",
            "passato\n",
            "passato\n",
            "passato\n",
            "passato\n",
            "passato\n",
            "passato\n",
            "passato\n",
            "passato\n",
            "passato\n",
            "passato\n",
            "passato\n",
            "passato\n",
            "passato\n",
            "passato\n",
            "passato\n",
            "passato\n",
            "passato\n",
            "passato\n",
            "passato\n",
            "passato\n",
            "passato\n",
            "passato\n",
            "passato\n",
            "passato\n",
            "passato\n",
            "passato\n",
            "passato\n",
            "passato\n",
            "passato\n",
            "passato\n",
            "passato\n",
            "passato\n",
            "passato\n",
            "passato\n",
            "passato\n",
            "passato\n",
            "passato\n",
            "passato\n",
            "passato\n",
            "passato\n",
            "passato\n",
            "passato\n",
            "passato\n",
            "passato\n",
            "passato\n",
            "passato\n",
            "passato\n",
            "passato\n",
            "passato\n",
            "passato\n",
            "passato\n",
            "passato\n",
            "passato\n",
            "passato\n",
            "passato\n",
            "passato\n",
            "passato\n",
            "passato\n",
            "passato\n",
            "passato\n",
            "passato\n",
            "passato\n",
            "passato\n",
            "passato\n",
            "passato\n",
            "passato\n",
            "passato\n",
            "passato\n",
            "passato\n",
            "passato\n",
            "passato\n",
            "passato\n",
            "passato\n",
            "passato\n",
            "passato\n",
            "passato\n",
            "passato\n",
            "passato\n",
            "passato\n",
            "passato\n",
            "passato\n",
            "passato\n",
            "\n"
          ],
          "name": "stdout"
        }
      ]
    },
    {
      "cell_type": "code",
      "metadata": {
        "id": "J_BFKaBKNwnQ",
        "colab_type": "code",
        "colab": {
          "base_uri": "https://localhost:8080/",
          "height": 34
        },
        "outputId": "aad14c78-f724-489d-9616-ce0bed497028"
      },
      "source": [
        "print(len(detail_score))"
      ],
      "execution_count": null,
      "outputs": [
        {
          "output_type": "stream",
          "text": [
            "1000\n"
          ],
          "name": "stdout"
        }
      ]
    },
    {
      "cell_type": "code",
      "metadata": {
        "id": "Vuv6O2suoYua",
        "colab_type": "code",
        "colab": {
          "base_uri": "https://localhost:8080/",
          "height": 204
        },
        "outputId": "65bc08d8-b19b-47e4-c779-c0f89a173473"
      },
      "source": [
        "ds_detail_score = pd.DataFrame(detail_score)\n",
        "ds_detail_score.set_index(\"review_id\")\n",
        "ds_detail_score.head()"
      ],
      "execution_count": null,
      "outputs": [
        {
          "output_type": "execute_result",
          "data": {
            "text/html": [
              "<div>\n",
              "<style scoped>\n",
              "    .dataframe tbody tr th:only-of-type {\n",
              "        vertical-align: middle;\n",
              "    }\n",
              "\n",
              "    .dataframe tbody tr th {\n",
              "        vertical-align: top;\n",
              "    }\n",
              "\n",
              "    .dataframe thead th {\n",
              "        text-align: right;\n",
              "    }\n",
              "</style>\n",
              "<table border=\"1\" class=\"dataframe\">\n",
              "  <thead>\n",
              "    <tr style=\"text-align: right;\">\n",
              "      <th></th>\n",
              "      <th>review_id</th>\n",
              "      <th>title</th>\n",
              "      <th>platform</th>\n",
              "      <th>publisher</th>\n",
              "      <th>developer</th>\n",
              "      <th>genre</th>\n",
              "      <th>players</th>\n",
              "      <th>release</th>\n",
              "      <th>score_meta</th>\n",
              "      <th>score_user</th>\n",
              "    </tr>\n",
              "  </thead>\n",
              "  <tbody>\n",
              "    <tr>\n",
              "      <th>0</th>\n",
              "      <td>160692</td>\n",
              "      <td>THE LEGEND OF ZELDA: OCARINA OF TIME</td>\n",
              "      <td>Nintendo</td>\n",
              "      <td>Nintendo</td>\n",
              "      <td>Nintendo</td>\n",
              "      <td>Genre(s): Action Adventure, Fantasy</td>\n",
              "      <td>1 Player</td>\n",
              "      <td>Nov 23, 1998</td>\n",
              "      <td>99</td>\n",
              "      <td>9.1</td>\n",
              "    </tr>\n",
              "    <tr>\n",
              "      <th>1</th>\n",
              "      <td>160779</td>\n",
              "      <td>TONY HAWK'S PRO SKATER 2</td>\n",
              "      <td>Activision</td>\n",
              "      <td>Activision</td>\n",
              "      <td>Neversoft Entertainment</td>\n",
              "      <td>Genre(s): Sports, Alternative, Skateboarding</td>\n",
              "      <td>1-2</td>\n",
              "      <td>Sep 20, 2000</td>\n",
              "      <td>98</td>\n",
              "      <td>7.4</td>\n",
              "    </tr>\n",
              "    <tr>\n",
              "      <th>2</th>\n",
              "      <td>108362</td>\n",
              "      <td>GRAND THEFT AUTO IV</td>\n",
              "      <td>Rockstar Games</td>\n",
              "      <td>Rockstar Games</td>\n",
              "      <td>Rockstar North</td>\n",
              "      <td>Genre(s): Action Adventure, Modern, Modern, Op...</td>\n",
              "      <td>1 Player</td>\n",
              "      <td>Apr 29, 2008</td>\n",
              "      <td>98</td>\n",
              "      <td>7.6</td>\n",
              "    </tr>\n",
              "    <tr>\n",
              "      <th>3</th>\n",
              "      <td>160751</td>\n",
              "      <td>SOULCALIBUR</td>\n",
              "      <td>Namco</td>\n",
              "      <td>Namco</td>\n",
              "      <td>Namco</td>\n",
              "      <td>Genre(s): Action, Fighting, 3D</td>\n",
              "      <td>1-2</td>\n",
              "      <td>Sep 8, 1999</td>\n",
              "      <td>98</td>\n",
              "      <td>8.5</td>\n",
              "    </tr>\n",
              "    <tr>\n",
              "      <th>4</th>\n",
              "      <td>108363</td>\n",
              "      <td>GRAND THEFT AUTO IV</td>\n",
              "      <td>Rockstar Games</td>\n",
              "      <td>Rockstar Games</td>\n",
              "      <td>Rockstar North</td>\n",
              "      <td>Genre(s): Action Adventure, Modern, Modern, Op...</td>\n",
              "      <td>1 Player</td>\n",
              "      <td>Apr 29, 2008</td>\n",
              "      <td>98</td>\n",
              "      <td>7.9</td>\n",
              "    </tr>\n",
              "  </tbody>\n",
              "</table>\n",
              "</div>"
            ],
            "text/plain": [
              "   review_id                                 title  ... score_meta score_user\n",
              "0     160692  THE LEGEND OF ZELDA: OCARINA OF TIME  ...         99        9.1\n",
              "1     160779              TONY HAWK'S PRO SKATER 2  ...         98        7.4\n",
              "2     108362                   GRAND THEFT AUTO IV  ...         98        7.6\n",
              "3     160751                           SOULCALIBUR  ...         98        8.5\n",
              "4     108363                   GRAND THEFT AUTO IV  ...         98        7.9\n",
              "\n",
              "[5 rows x 10 columns]"
            ]
          },
          "metadata": {
            "tags": []
          },
          "execution_count": 33
        }
      ]
    },
    {
      "cell_type": "code",
      "metadata": {
        "id": "m2iErGp8OyJw",
        "colab_type": "code",
        "colab": {}
      },
      "source": [
        "ds_detail_score.to_csv('ds_reviews_score.csv')"
      ],
      "execution_count": null,
      "outputs": []
    },
    {
      "cell_type": "markdown",
      "metadata": {
        "id": "ThxyDoZdsxJ3",
        "colab_type": "text"
      },
      "source": [
        "The last of us Part II - reviews"
      ]
    },
    {
      "cell_type": "code",
      "metadata": {
        "id": "6d8w9hd6s4qT",
        "colab_type": "code",
        "colab": {
          "base_uri": "https://localhost:8080/",
          "height": 51
        },
        "outputId": "0639f313-c1bb-441f-bc7c-1635385bff7f"
      },
      "source": [
        "wd = webdriver.Chrome('chromedriver',chrome_options=chrome_options)\n",
        "wd.get(\"https://www.metacritic.com/game/playstation-4/the-last-of-us-part-ii/user-reviews\")"
      ],
      "execution_count": 45,
      "outputs": [
        {
          "output_type": "stream",
          "text": [
            "/usr/local/lib/python3.6/dist-packages/ipykernel_launcher.py:1: DeprecationWarning: use options instead of chrome_options\n",
            "  \"\"\"Entry point for launching an IPython kernel.\n"
          ],
          "name": "stderr"
        }
      ]
    },
    {
      "cell_type": "code",
      "metadata": {
        "id": "uszP347btS3Y",
        "colab_type": "code",
        "colab": {
          "base_uri": "https://localhost:8080/",
          "height": 34
        },
        "outputId": "d6f43dec-6258-4d2f-fcbf-9605af1b9934"
      },
      "source": [
        "reviews_user = wd.find_elements_by_css_selector(\"li.user_review\")\n",
        "print(len(reviews))"
      ],
      "execution_count": 109,
      "outputs": [
        {
          "output_type": "stream",
          "text": [
            "100\n"
          ],
          "name": "stdout"
        }
      ]
    },
    {
      "cell_type": "code",
      "metadata": {
        "id": "JbqrwfX8VkaI",
        "colab_type": "code",
        "colab": {
          "base_uri": "https://localhost:8080/",
          "height": 34
        },
        "outputId": "9858abf7-e38c-4d41-a9b6-948ef9ccc179"
      },
      "source": [
        "#id\n",
        "print(reviews_user[0].get_attribute(\"id\"))"
      ],
      "execution_count": 110,
      "outputs": [
        {
          "output_type": "stream",
          "text": [
            "user_review_11488987\n"
          ],
          "name": "stdout"
        }
      ]
    },
    {
      "cell_type": "code",
      "metadata": {
        "id": "P7H9yXM7yyQ8",
        "colab_type": "code",
        "colab": {
          "base_uri": "https://localhost:8080/",
          "height": 34
        },
        "outputId": "d8c9f46c-cf5d-4dcc-8fc5-070bf833a46a"
      },
      "source": [
        "#username\n",
        "print(reviews_user[0].find_elements_by_css_selector(\"div.name\")[0].text)"
      ],
      "execution_count": 111,
      "outputs": [
        {
          "output_type": "stream",
          "text": [
            "Fangenijus\n"
          ],
          "name": "stdout"
        }
      ]
    },
    {
      "cell_type": "code",
      "metadata": {
        "id": "er2fAjhoGa65",
        "colab_type": "code",
        "colab": {
          "base_uri": "https://localhost:8080/",
          "height": 34
        },
        "outputId": "9ab5cb47-985e-47ee-cf65-6446e7360afe"
      },
      "source": [
        "#voto\n",
        "print(reviews_user[0].find_elements_by_css_selector(\"div.metascore_w\")[0].text)"
      ],
      "execution_count": 112,
      "outputs": [
        {
          "output_type": "stream",
          "text": [
            "3\n"
          ],
          "name": "stdout"
        }
      ]
    },
    {
      "cell_type": "code",
      "metadata": {
        "id": "cDBQJS5ULenF",
        "colab_type": "code",
        "colab": {
          "base_uri": "https://localhost:8080/",
          "height": 34
        },
        "outputId": "2739f1db-c5a8-4ed8-c6a8-e63181e7900f"
      },
      "source": [
        "#release\n",
        "print(reviews_user[0].find_elements_by_css_selector(\"div.date\")[0].text)"
      ],
      "execution_count": 113,
      "outputs": [
        {
          "output_type": "stream",
          "text": [
            "Jun 19, 2020\n"
          ],
          "name": "stdout"
        }
      ]
    },
    {
      "cell_type": "code",
      "metadata": {
        "id": "YHakFAv_Oktg",
        "colab_type": "code",
        "colab": {
          "base_uri": "https://localhost:8080/",
          "height": 85
        },
        "outputId": "f019ec40-f2f3-4e23-ed56-9bf08dfdf377"
      },
      "source": [
        "#body\n",
        "try:\n",
        "  reviews_user[1].find_element_by_css_selector(\"span.toggle_expand\").click()\n",
        "  print(reviews_user[1].find_elements_by_css_selector(\"div.review_body\")[0].text)\n",
        "except:\n",
        "  print(reviews_user[1].find_elements_by_css_selector(\"div.review_body\")[0].text)"
      ],
      "execution_count": 114,
      "outputs": [
        {
          "output_type": "stream",
          "text": [
            "My disappointment is immeasurable, and my day is ruined.\n",
            "I waited 5 years to play this\n",
            "And they gave me a horrible intro and **** ending\n",
            "I just want to forget about this game.\n"
          ],
          "name": "stdout"
        }
      ]
    },
    {
      "cell_type": "code",
      "metadata": {
        "id": "1xGahb5IRtca",
        "colab_type": "code",
        "colab": {}
      },
      "source": [
        "def parse_review_user(review):\n",
        "  try:\n",
        "    review_id = review.get_attribute(\"id\")\n",
        "    username = review.find_elements_by_css_selector(\"div.name\")[0].text\n",
        "    score = review.find_elements_by_css_selector(\"div.metascore_w\")[0].text\n",
        "    release = review.find_elements_by_css_selector(\"div.date\")[0].text\n",
        "    try:\n",
        "      review.find_element_by_css_selector(\"span.toggle_expand\").click()\n",
        "      body = review.find_elements_by_css_selector(\"div.review_body\")[0].text\n",
        "    except:\n",
        "      body = review.find_elements_by_css_selector(\"div.review_body\")[0].text\n",
        "  except:\n",
        "    print(\"passato\")\n",
        "    pass\n",
        "  return {'review_id': review_id,\n",
        "          'username': username,\n",
        "          'score': score,\n",
        "          'release': release,\n",
        "          'body': body}"
      ],
      "execution_count": 119,
      "outputs": []
    },
    {
      "cell_type": "code",
      "metadata": {
        "id": "jnEF1t1VZ7ow",
        "colab_type": "code",
        "colab": {
          "base_uri": "https://localhost:8080/",
          "height": 134,
          "referenced_widgets": [
            "09a195ed44744bad91868ad51004621e",
            "9121bf9021d646009c99c2491e388536",
            "e16ddd4b6b7f4c808eeec6196a5b08d7",
            "6d7d9fa6f71b423ba8f48fa1fdefa1b1",
            "d1025588290e4cc89cb9154f56a9ac9f",
            "45f89057ce8142679de8bb813a1ff6cd",
            "68f0cd478af74b7cbe12d3677addf01f",
            "943c7453cf8744bdba398a3ff43efd36"
          ]
        },
        "outputId": "82209f64-e59b-4e65-ee51-a4eddb3ad987"
      },
      "source": [
        "import time\n",
        "detail_reviews_user = []\n",
        "for num in tqdm(range(0,10)):\n",
        "  time.sleep(1)\n",
        "  wd.get(f\"https://www.metacritic.com/game/playstation-4/the-last-of-us-part-ii/user-reviews?page={num}\")\n",
        "  list_reviews = wd.find_elements_by_css_selector(\"li.user_review\")\n",
        "  for review in list_reviews:\n",
        "    detail_reviews_user.append(parse_review_user(review))\n",
        "\n",
        "print(len(detail_reviews))"
      ],
      "execution_count": 125,
      "outputs": [
        {
          "output_type": "stream",
          "text": [
            "/usr/local/lib/python3.6/dist-packages/ipykernel_launcher.py:3: TqdmDeprecationWarning: This function will be removed in tqdm==5.0.0\n",
            "Please use `tqdm.notebook.tqdm` instead of `tqdm.tqdm_notebook`\n",
            "  This is separate from the ipykernel package so we can avoid doing imports until\n"
          ],
          "name": "stderr"
        },
        {
          "output_type": "display_data",
          "data": {
            "application/vnd.jupyter.widget-view+json": {
              "model_id": "09a195ed44744bad91868ad51004621e",
              "version_minor": 0,
              "version_major": 2
            },
            "text/plain": [
              "HBox(children=(FloatProgress(value=0.0, max=10.0), HTML(value='')))"
            ]
          },
          "metadata": {
            "tags": []
          }
        },
        {
          "output_type": "stream",
          "text": [
            "\n",
            "1000\n"
          ],
          "name": "stdout"
        }
      ]
    },
    {
      "cell_type": "code",
      "metadata": {
        "id": "qUjqUneNbJvA",
        "colab_type": "code",
        "colab": {
          "base_uri": "https://localhost:8080/",
          "height": 204
        },
        "outputId": "030b3c1c-abb7-459a-b17b-ec032635a8e9"
      },
      "source": [
        "ds_detail_reviews_user = pd.DataFrame(detail_reviews_user)\n",
        "ds_detail_reviews_user.set_index(\"review_id\")\n",
        "ds_detail_reviews_user.head()"
      ],
      "execution_count": 127,
      "outputs": [
        {
          "output_type": "execute_result",
          "data": {
            "text/html": [
              "<div>\n",
              "<style scoped>\n",
              "    .dataframe tbody tr th:only-of-type {\n",
              "        vertical-align: middle;\n",
              "    }\n",
              "\n",
              "    .dataframe tbody tr th {\n",
              "        vertical-align: top;\n",
              "    }\n",
              "\n",
              "    .dataframe thead th {\n",
              "        text-align: right;\n",
              "    }\n",
              "</style>\n",
              "<table border=\"1\" class=\"dataframe\">\n",
              "  <thead>\n",
              "    <tr style=\"text-align: right;\">\n",
              "      <th></th>\n",
              "      <th>review_id</th>\n",
              "      <th>username</th>\n",
              "      <th>score</th>\n",
              "      <th>release</th>\n",
              "      <th>body</th>\n",
              "    </tr>\n",
              "  </thead>\n",
              "  <tbody>\n",
              "    <tr>\n",
              "      <th>0</th>\n",
              "      <td>user_review_11488987</td>\n",
              "      <td>Fangenijus</td>\n",
              "      <td>3</td>\n",
              "      <td>Jun 19, 2020</td>\n",
              "      <td>It breaks my heart to write this, but I really...</td>\n",
              "    </tr>\n",
              "    <tr>\n",
              "      <th>1</th>\n",
              "      <td>user_review_11523334</td>\n",
              "      <td>Sijun</td>\n",
              "      <td>4</td>\n",
              "      <td>Jun 19, 2020</td>\n",
              "      <td>This review contains spoilers. So I got the ga...</td>\n",
              "    </tr>\n",
              "    <tr>\n",
              "      <th>2</th>\n",
              "      <td>user_review_11496626</td>\n",
              "      <td>Bulgwang</td>\n",
              "      <td>0</td>\n",
              "      <td>Jun 19, 2020</td>\n",
              "      <td>My disappointment is immeasurable, and my day ...</td>\n",
              "    </tr>\n",
              "    <tr>\n",
              "      <th>3</th>\n",
              "      <td>user_review_11490069</td>\n",
              "      <td>NarmanHammer</td>\n",
              "      <td>3</td>\n",
              "      <td>Jun 19, 2020</td>\n",
              "      <td>This review contains spoilers. The Last of Us ...</td>\n",
              "    </tr>\n",
              "    <tr>\n",
              "      <th>4</th>\n",
              "      <td>user_review_11549291</td>\n",
              "      <td>MatrixRebel</td>\n",
              "      <td>4</td>\n",
              "      <td>Jun 22, 2020</td>\n",
              "      <td>Oh boy... Where to begin...\\n\\nIf you are like...</td>\n",
              "    </tr>\n",
              "  </tbody>\n",
              "</table>\n",
              "</div>"
            ],
            "text/plain": [
              "              review_id  ...                                               body\n",
              "0  user_review_11488987  ...  It breaks my heart to write this, but I really...\n",
              "1  user_review_11523334  ...  This review contains spoilers. So I got the ga...\n",
              "2  user_review_11496626  ...  My disappointment is immeasurable, and my day ...\n",
              "3  user_review_11490069  ...  This review contains spoilers. The Last of Us ...\n",
              "4  user_review_11549291  ...  Oh boy... Where to begin...\\n\\nIf you are like...\n",
              "\n",
              "[5 rows x 5 columns]"
            ]
          },
          "metadata": {
            "tags": []
          },
          "execution_count": 127
        }
      ]
    },
    {
      "cell_type": "code",
      "metadata": {
        "id": "3a-cddwbcbXb",
        "colab_type": "code",
        "colab": {
          "base_uri": "https://localhost:8080/",
          "height": 221
        },
        "outputId": "18c7e6c1-101f-45a3-d4c4-1c8b5f24de91"
      },
      "source": [
        "ds_detail_reviews_user.info()"
      ],
      "execution_count": 128,
      "outputs": [
        {
          "output_type": "stream",
          "text": [
            "<class 'pandas.core.frame.DataFrame'>\n",
            "RangeIndex: 1000 entries, 0 to 999\n",
            "Data columns (total 5 columns):\n",
            " #   Column     Non-Null Count  Dtype \n",
            "---  ------     --------------  ----- \n",
            " 0   review_id  1000 non-null   object\n",
            " 1   username   1000 non-null   object\n",
            " 2   score      1000 non-null   object\n",
            " 3   release    1000 non-null   object\n",
            " 4   body       1000 non-null   object\n",
            "dtypes: object(5)\n",
            "memory usage: 39.2+ KB\n"
          ],
          "name": "stdout"
        }
      ]
    },
    {
      "cell_type": "code",
      "metadata": {
        "id": "0hqNdOsscsTW",
        "colab_type": "code",
        "colab": {}
      },
      "source": [
        "ds_detail_reviews_user.to_csv('ds_reviews_user.csv')"
      ],
      "execution_count": 129,
      "outputs": []
    }
  ]
}