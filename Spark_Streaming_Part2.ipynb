{
 "cells": [
  {
   "cell_type": "markdown",
   "metadata": {},
   "source": [
    "Spark Streaming"
   ]
  },
  {
   "cell_type": "markdown",
   "metadata": {},
   "source": [
    "Importiamo prima le dipendenze"
   ]
  },
  {
   "cell_type": "code",
   "execution_count": 1,
   "metadata": {},
   "outputs": [],
   "source": [
    "from pyspark import SparkContext\n",
    "from pyspark.streaming import StreamingContext\n",
    "from pyspark.sql import SQLContext\n",
    "from pyspark.sql.functions import desc\n",
    "from collections import namedtuple"
   ]
  },
  {
   "cell_type": "markdown",
   "metadata": {},
   "source": [
    "Prima si crea un oggetto SparkContext, che rappresenta la connessione al cluster, così da poter costruire RDDDs.\n",
    "Si crea un oggetto Streaming Context che rappresenta il punto di ingresso principale per le funzionalità di streaming."
   ]
  },
  {
   "cell_type": "code",
   "execution_count": 2,
   "metadata": {},
   "outputs": [],
   "source": [
    "sc = SparkContext()\n",
    "batch_interval = 10\n",
    "ssc = StreamingContext(sc, batch_interval)"
   ]
  },
  {
   "cell_type": "markdown",
   "metadata": {},
   "source": [
    "Usiamo socketTextStream () per creare un DStream basato sui dati ricevuti sulla \"porta\" indicata della macchina locale."
   ]
  },
  {
   "cell_type": "code",
   "execution_count": 3,
   "metadata": {},
   "outputs": [],
   "source": [
    "lines = ssc.socketTextStream(\"192.168.56.1\", 15000)"
   ]
  },
  {
   "cell_type": "code",
   "execution_count": 4,
   "metadata": {},
   "outputs": [],
   "source": [
    "words = lines.flatMap(lambda line: line.split(\" \")) #flatMap operation produces an arbitrary number (zero or more) values for each input value\n",
    "pairs = words.map(lambda word: (word, 1)) #map operation produces one output value for each input value\n",
    "wordCounts = pairs.reduceByKey(lambda x, y: x + y) #Combine values with the same key in each batch.\n",
    "wordCounts.pprint()"
   ]
  },
  {
   "cell_type": "markdown",
   "metadata": {},
   "source": [
    "Per iniziare a ricevere dati, dobbiamo chiamare esplicitamente start () su StreamingContext."
   ]
  },
  {
   "cell_type": "code",
   "execution_count": null,
   "metadata": {},
   "outputs": [
    {
     "name": "stdout",
     "output_type": "stream",
     "text": [
      "-------------------------------------------\n",
      "Time: 2020-08-13 16:48:20\n",
      "-------------------------------------------\n",
      "('@sardanarohit:', 1)\n",
      "('two', 1)\n",
      "('weeks', 1)\n",
      "('schools', 1)\n",
      "('but', 2)\n",
      "('&amp;', 1)\n",
      "('March', 1)\n",
      "('would', 1)\n",
      "('', 2)\n",
      "('school', 2)\n",
      "...\n",
      "\n",
      "-------------------------------------------\n",
      "Time: 2020-08-13 16:48:30\n",
      "-------------------------------------------\n",
      "('risks', 1)\n",
      "('of', 37)\n",
      "('https://t.co/LSl7IcSd0i', 1)\n",
      "('Jobless', 4)\n",
      "('Below', 2)\n",
      "('March', 6)\n",
      "('out', 10)\n",
      "('now', 7)\n",
      "('heart', 1)\n",
      "('disease.', 1)\n",
      "...\n",
      "\n",
      "-------------------------------------------\n",
      "Time: 2020-08-13 16:48:40\n",
      "-------------------------------------------\n",
      "('staff', 5)\n",
      "('cases', 6)\n",
      "('of', 22)\n",
      "('#ChandigarhUpdate', 2)\n",
      "('', 41)\n",
      "('now', 8)\n",
      "('50F', 2)\n",
      "('Highest', 2)\n",
      "('Americans', 3)\n",
      "('Laden.', 1)\n",
      "...\n",
      "\n",
      "-------------------------------------------\n",
      "Time: 2020-08-13 16:48:50\n",
      "-------------------------------------------\n",
      "('PM', 1)\n",
      "('\"press', 1)\n",
      "('\"working', 1)\n",
      "('of', 32)\n",
      "('cases', 5)\n",
      "('(…', 1)\n",
      "('Trinidad', 1)\n",
      "('&amp;', 5)\n",
      "('but', 7)\n",
      "('Americans', 4)\n",
      "...\n",
      "\n",
      "-------------------------------------------\n",
      "Time: 2020-08-13 16:49:00\n",
      "-------------------------------------------\n",
      "('mask.', 2)\n",
      "('are', 7)\n",
      "('', 43)\n",
      "('Concludes', 1)\n",
      "('@sardanarohit:', 2)\n",
      "('two', 3)\n",
      "('weeks', 3)\n",
      "('schools', 3)\n",
      "('https://t.co/MhpRmHR0f4@KhalilAwan88', 1)\n",
      "('@UlviyyaH3', 1)\n",
      "...\n",
      "\n",
      "-------------------------------------------\n",
      "Time: 2020-08-13 16:49:10\n",
      "-------------------------------------------\n",
      "('are', 11)\n",
      "('of', 42)\n",
      "('poisoning,', 4)\n",
      "('other', 5)\n",
      "('Follow', 2)\n",
      "('here.', 1)\n",
      "('\"That', 2)\n",
      "('', 50)\n",
      "('would', 5)\n",
      "('stimulus', 2)\n",
      "...\n",
      "\n",
      "-------------------------------------------\n",
      "Time: 2020-08-13 16:49:20\n",
      "-------------------------------------------\n",
      "('Kamala', 3)\n",
      "('out', 11)\n",
      "('failures.', 1)\n",
      "('of', 38)\n",
      "('them.', 2)\n",
      "('brilliant.', 1)\n",
      "('', 35)\n",
      "('What', 2)\n",
      "('tests', 3)\n",
      "('solve', 2)\n",
      "...\n",
      "\n",
      "-------------------------------------------\n",
      "Time: 2020-08-13 16:49:30\n",
      "-------------------------------------------\n",
      "('https://t.co/VehBAQJyaORT', 1)\n",
      "('@ZacOnTheMic:', 1)\n",
      "('players', 1)\n",
      "('s…Reptilian', 1)\n",
      "('#IL03,', 2)\n",
      "('&amp;', 8)\n",
      "('recipients', 2)\n",
      "('during', 3)\n",
      "('now', 3)\n",
      "('listed', 1)\n",
      "...\n",
      "\n",
      "-------------------------------------------\n",
      "Time: 2020-08-13 16:49:40\n",
      "-------------------------------------------\n",
      "('professor:', 1)\n",
      "('hydroxychloroquine', 1)\n",
      "('trying', 1)\n",
      "('of', 6)\n",
      "('poisoning,', 1)\n",
      "('other', 1)\n",
      "('Americans', 1)\n",
      "('Laden.', 1)\n",
      "('', 8)\n",
      "('would', 1)\n",
      "...\n",
      "\n",
      "-------------------------------------------\n",
      "Time: 2020-08-13 16:49:50\n",
      "-------------------------------------------\n",
      "\n",
      "-------------------------------------------\n",
      "Time: 2020-08-13 16:50:00\n",
      "-------------------------------------------\n",
      "\n",
      "-------------------------------------------\n",
      "Time: 2020-08-13 16:50:10\n",
      "-------------------------------------------\n",
      "\n",
      "-------------------------------------------\n",
      "Time: 2020-08-13 16:50:20\n",
      "-------------------------------------------\n",
      "\n",
      "-------------------------------------------\n",
      "Time: 2020-08-13 16:50:30\n",
      "-------------------------------------------\n",
      "\n",
      "-------------------------------------------\n",
      "Time: 2020-08-13 16:50:40\n",
      "-------------------------------------------\n",
      "\n",
      "-------------------------------------------\n",
      "Time: 2020-08-13 16:50:50\n",
      "-------------------------------------------\n",
      "\n",
      "-------------------------------------------\n",
      "Time: 2020-08-13 16:51:00\n",
      "-------------------------------------------\n",
      "\n"
     ]
    }
   ],
   "source": [
    "ssc.start()\n",
    "ssc.awaitTermination() #Per attendere il termine del calcolo dello streaming."
   ]
  },
  {
   "cell_type": "code",
   "execution_count": null,
   "metadata": {},
   "outputs": [],
   "source": []
  }
 ],
 "metadata": {
  "kernelspec": {
   "display_name": "Python 3",
   "language": "python",
   "name": "python3"
  },
  "language_info": {
   "codemirror_mode": {
    "name": "ipython",
    "version": 3
   },
   "file_extension": ".py",
   "mimetype": "text/x-python",
   "name": "python",
   "nbconvert_exporter": "python",
   "pygments_lexer": "ipython3",
   "version": "3.8.0"
  }
 },
 "nbformat": 4,
 "nbformat_minor": 4
}
