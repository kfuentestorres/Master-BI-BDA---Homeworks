{
  "nbformat": 4,
  "nbformat_minor": 0,
  "metadata": {
    "colab": {
      "name": "Review_Bombing_TLOUII.ipynb",
      "provenance": [],
      "collapsed_sections": [],
      "toc_visible": true,
      "include_colab_link": true
    },
    "kernelspec": {
      "name": "python3",
      "display_name": "Python 3"
    }
  },
  "cells": [
    {
      "cell_type": "markdown",
      "metadata": {
        "id": "view-in-github",
        "colab_type": "text"
      },
      "source": [
        "<a href=\"https://colab.research.google.com/github/kfuentestorres/Master-BI-BDA---Homeworks/blob/master/Review_Bombing_TLOUII.ipynb\" target=\"_parent\"><img src=\"https://colab.research.google.com/assets/colab-badge.svg\" alt=\"Open In Colab\"/></a>"
      ]
    },
    {
      "cell_type": "markdown",
      "metadata": {
        "id": "jGO5wWJUGQU1",
        "colab_type": "text"
      },
      "source": [
        "# Installo le librerie"
      ]
    },
    {
      "cell_type": "code",
      "metadata": {
        "id": "Qb71HlDcGTp0",
        "colab_type": "code",
        "colab": {}
      },
      "source": [
        "!pip install selenium\n",
        "!apt-get update\n",
        "!apt install chromium-chromedriver\n",
        "!cp /usr/lib/chromium-browser/chromedriver /usr/bin"
      ],
      "execution_count": null,
      "outputs": []
    },
    {
      "cell_type": "code",
      "metadata": {
        "id": "YRt5yEXxA-jW",
        "colab_type": "code",
        "colab": {}
      },
      "source": [
        "import sys\n",
        "sys.path.insert(0,'/usr/lib/chromium-browser/chromedriver')\n",
        "from selenium import webdriver\n",
        "from tqdm import tqdm_notebook as tqdm\n",
        "import pandas\n",
        "import json\n",
        "import pprint"
      ],
      "execution_count": null,
      "outputs": []
    },
    {
      "cell_type": "code",
      "metadata": {
        "id": "DTfvdy_gBCBU",
        "colab_type": "code",
        "colab": {}
      },
      "source": [
        "chrome_options = webdriver.ChromeOptions()\n",
        "chrome_options.add_argument('--headless')\n",
        "chrome_options.add_argument('--no-sandbox')\n",
        "chrome_options.add_argument('--disable-dev-shm-usage')"
      ],
      "execution_count": null,
      "outputs": []
    },
    {
      "cell_type": "markdown",
      "metadata": {
        "id": "A1ETBqlPcQhl",
        "colab_type": "text"
      },
      "source": [
        "# Scarico la lista dei primi 1000 giochi secondo lo score di Metacritic\n",
        "\n"
      ]
    },
    {
      "cell_type": "code",
      "metadata": {
        "id": "tD3KLUrIfTJd",
        "colab_type": "code",
        "colab": {}
      },
      "source": [
        "def parse_review(review):\n",
        "  try:\n",
        "    review_id = review.find_elements_by_css_selector(\"input\")[0].get_attribute(\"id\")\n",
        "    title = review.find_elements_by_css_selector(\"a h3\")[0].text\n",
        "    url = review.find_elements_by_css_selector(\"a.title\")[0].get_attribute(\"href\")\n",
        "  except:\n",
        "    pass\n",
        "  return {'review_id': review_id,\n",
        "          'url': url,\n",
        "          'title': title}\n"
      ],
      "execution_count": null,
      "outputs": []
    },
    {
      "cell_type": "code",
      "metadata": {
        "id": "TfWSS_33fbZg",
        "colab_type": "code",
        "colab": {}
      },
      "source": [
        "import time\n",
        "detail_reviews = []\n",
        "for num in tqdm(range(0,10)):\n",
        "  time.sleep(1)\n",
        "  wd.get(f\"https://www.metacritic.com/browse/games/score/metascore/all/all/filtered?page={num}\")\n",
        "  list_reviews = wd.find_elements_by_css_selector(\"td.clamp-summary-wrap\")\n",
        "  for review in list_reviews:\n",
        "    detail_reviews.append(parse_review(review))\n",
        "\n",
        "print(len(detail_reviews))"
      ],
      "execution_count": null,
      "outputs": []
    },
    {
      "cell_type": "code",
      "metadata": {
        "id": "MumFgyNypoBo",
        "colab_type": "code",
        "colab": {}
      },
      "source": [
        "import pandas as pd\n",
        "ds_detail_reviews = pd.DataFrame(detail_reviews)\n",
        "ds_detail_reviews.set_index(\"review_id\")\n",
        "ds_detail_reviews.head()"
      ],
      "execution_count": null,
      "outputs": []
    },
    {
      "cell_type": "code",
      "metadata": {
        "id": "_tFbyPwcrNY4",
        "colab_type": "code",
        "colab": {}
      },
      "source": [
        "ds_detail_reviews.info()"
      ],
      "execution_count": null,
      "outputs": []
    },
    {
      "cell_type": "code",
      "metadata": {
        "id": "3lUw4-_BrQDh",
        "colab_type": "code",
        "colab": {}
      },
      "source": [
        "ds_detail_reviews.to_csv('ds_reviews.csv')"
      ],
      "execution_count": null,
      "outputs": []
    },
    {
      "cell_type": "markdown",
      "metadata": {
        "id": "dNiBONb_Hi7M",
        "colab_type": "text"
      },
      "source": [
        "# Estraggo le informazioni dei primi 1000 giochi"
      ]
    },
    {
      "cell_type": "code",
      "metadata": {
        "id": "yVnUyfGsvcac",
        "colab_type": "code",
        "colab": {}
      },
      "source": [
        "# open csv file\n",
        "import pandas as pd\n",
        "ds_detail_reviews = pd.read_csv(\"ds_reviews.csv\", index_col=\"review_id\")\n",
        "ds_detail_reviews.head()"
      ],
      "execution_count": null,
      "outputs": []
    },
    {
      "cell_type": "code",
      "metadata": {
        "id": "8yCJ96HbtoUH",
        "colab_type": "code",
        "colab": {}
      },
      "source": [
        "detail_score = []\n",
        "for review_id, review in tqdm(ds_detail_reviews.iterrows(),total=ds_detail_reviews.shape[0]):\n",
        "  time.sleep(1)\n",
        "  url = review[\"url\"]\n",
        "  wd.get(url)\n",
        "  try:\n",
        "    title = wd.find_elements_by_css_selector(\"a h1\")[0].text\n",
        "    platform = wd.find_elements_by_css_selector(\"li.summary_detail.publisher > span.data > a\")[0].text\n",
        "    publisher = wd.find_elements_by_css_selector(\"li.publisher span.data\")[0].text\n",
        "    developer = wd.find_elements_by_css_selector(\"li.developer span.data\")[0].text\n",
        "    genre = wd.find_elements_by_css_selector(\"li.product_genre\")[0].text\n",
        "    players = wd.find_elements_by_css_selector(\"li.product_players span.data\")[0].text\n",
        "    release = wd.find_elements_by_css_selector(\"li.release_data span.data\")[0].text\n",
        "    score_meta = wd.find_elements_by_css_selector(\"div.game span\")[0].text\n",
        "    score_user = wd.find_elements_by_css_selector(\"div.details.side_details > div:nth-child(1) > div > a > div\")[0].text\n",
        "  except:\n",
        "    pass\n",
        "  detail_score.append ({'review_id': review_id,\n",
        "                      'title': title,\n",
        "                      'platform': platform,\n",
        "                      'publisher': publisher,\n",
        "                      'developer': developer,\n",
        "                      'genre': genre,\n",
        "                      'players': players,\n",
        "                      'release': release,\n",
        "                      'score_meta': score_meta,\n",
        "                      'score_user': score_user})"
      ],
      "execution_count": null,
      "outputs": []
    },
    {
      "cell_type": "code",
      "metadata": {
        "id": "Vuv6O2suoYua",
        "colab_type": "code",
        "colab": {}
      },
      "source": [
        "ds_detail_score = pd.DataFrame(detail_score)\n",
        "ds_detail_score.set_index(\"review_id\")\n",
        "ds_detail_score.head()"
      ],
      "execution_count": null,
      "outputs": []
    },
    {
      "cell_type": "code",
      "metadata": {
        "id": "m2iErGp8OyJw",
        "colab_type": "code",
        "colab": {}
      },
      "source": [
        "ds_detail_score.to_csv('ds_reviews_score.csv')"
      ],
      "execution_count": null,
      "outputs": []
    },
    {
      "cell_type": "markdown",
      "metadata": {
        "id": "ThxyDoZdsxJ3",
        "colab_type": "text"
      },
      "source": [
        "# Estraggo le informazioni delle prime 1000 recensioni di \"The Last of Us Part II\""
      ]
    },
    {
      "cell_type": "code",
      "metadata": {
        "id": "1xGahb5IRtca",
        "colab_type": "code",
        "colab": {}
      },
      "source": [
        "def parse_review_user(review):\n",
        "  try:\n",
        "    review_id = review.get_attribute(\"id\")\n",
        "    username = review.find_elements_by_css_selector(\"div.name\")[0].text\n",
        "    score = review.find_elements_by_css_selector(\"div.metascore_w\")[0].text\n",
        "    release = review.find_elements_by_css_selector(\"div.date\")[0].text\n",
        "    try:\n",
        "      review.find_element_by_css_selector(\"span.toggle_expand\").click()\n",
        "      body = review.find_elements_by_css_selector(\"div.review_body\")[0].text\n",
        "    except:\n",
        "      body = review.find_elements_by_css_selector(\"div.review_body\")[0].text\n",
        "  except:\n",
        "    pass\n",
        "  return {'review_id': review_id,\n",
        "          'username': username,\n",
        "          'score': score,\n",
        "          'release': release,\n",
        "          'body': body}"
      ],
      "execution_count": null,
      "outputs": []
    },
    {
      "cell_type": "code",
      "metadata": {
        "id": "jnEF1t1VZ7ow",
        "colab_type": "code",
        "colab": {}
      },
      "source": [
        "import time\n",
        "detail_reviews_user = []\n",
        "for num in tqdm(range(0,10)):\n",
        "  time.sleep(1)\n",
        "  wd.get(f\"https://www.metacritic.com/game/playstation-4/the-last-of-us-part-ii/user-reviews?page={num}\")\n",
        "  list_reviews = wd.find_elements_by_css_selector(\"li.user_review\")\n",
        "  for review in list_reviews:\n",
        "    detail_reviews_user.append(parse_review_user(review))\n",
        "\n",
        "print(len(detail_reviews))"
      ],
      "execution_count": null,
      "outputs": []
    },
    {
      "cell_type": "code",
      "metadata": {
        "id": "qUjqUneNbJvA",
        "colab_type": "code",
        "colab": {}
      },
      "source": [
        "ds_detail_reviews_user = pd.DataFrame(detail_reviews_user)\n",
        "ds_detail_reviews_user.set_index(\"review_id\")\n",
        "ds_detail_reviews_user.head()"
      ],
      "execution_count": null,
      "outputs": []
    },
    {
      "cell_type": "code",
      "metadata": {
        "id": "3a-cddwbcbXb",
        "colab_type": "code",
        "colab": {}
      },
      "source": [
        "ds_detail_reviews_user.info()"
      ],
      "execution_count": null,
      "outputs": []
    },
    {
      "cell_type": "code",
      "metadata": {
        "id": "0hqNdOsscsTW",
        "colab_type": "code",
        "colab": {}
      },
      "source": [
        "ds_detail_reviews_user.to_csv('ds_reviews_user.csv')"
      ],
      "execution_count": null,
      "outputs": []
    }
  ]
}